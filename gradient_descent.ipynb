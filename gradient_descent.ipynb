{
  "nbformat": 4,
  "nbformat_minor": 0,
  "metadata": {
    "colab": {
      "name": "gradient_descent.ipynb",
      "provenance": [],
      "authorship_tag": "ABX9TyPEQCPX1bXS9bylawzRVm1J",
      "include_colab_link": true
    },
    "kernelspec": {
      "name": "python3",
      "display_name": "Python 3"
    }
  },
  "cells": [
    {
      "cell_type": "markdown",
      "metadata": {
        "id": "view-in-github",
        "colab_type": "text"
      },
      "source": [
        "<a href=\"https://colab.research.google.com/github/tehila17-meet/MachineLearningPython/blob/main/gradient_descent.ipynb\" target=\"_parent\"><img src=\"https://colab.research.google.com/assets/colab-badge.svg\" alt=\"Open In Colab\"/></a>"
      ]
    },
    {
      "cell_type": "code",
      "metadata": {
        "id": "D3RMZAW9eR4Y"
      },
      "source": [
        "import numpy as np\n",
        "import matplotlib.pyplot as plt\n",
        "\n",
        "\n"
      ],
      "execution_count": 18,
      "outputs": []
    },
    {
      "cell_type": "code",
      "metadata": {
        "colab": {
          "base_uri": "https://localhost:8080/",
          "height": 265
        },
        "id": "BZIwj4d5dize",
        "outputId": "18db5a84-c8ce-4880-8b03-836d8a2fa445"
      },
      "source": [
        "\n",
        "class GradientDescent():\n",
        "  all_w = []\n",
        "  def __init__(self):\n",
        "    self.w = 3\n",
        "    self.learning_rate = 0.0001\n",
        "    self.lost_function = lambda w: 4*w**2 + 2*w + 20 \n",
        "    self.linear_derivative = lambda w: 8*w + 2\n",
        "    self.precision_rate = 0.001\n",
        "\n",
        "  def calc_new_w(self):\n",
        "    \"\"\"\n",
        "      This is the heart of the gradient descent algorithm: \n",
        "        w = old_w - learning_rate * derivative of the lost function\n",
        "    \"\"\"\n",
        "\n",
        "    self.w = self.w - self.learning_rate * self.linear_derivative(self.w)\n",
        "    self.all_w.append(self.w)\n",
        "\n",
        "  def gradient_descent(self):\n",
        "    \"\"\"\n",
        "    Function will keep updating w as long as the derivative is not 0 (reached minimum) or in the range of precision (based on precision_rate)\n",
        "    \"\"\"\n",
        "    \n",
        "    descending = True\n",
        "    while descending:\n",
        "      self.calc_new_w()\n",
        "      if self.is_in_precision_range():\n",
        "        return f\"Minimum W: {self.w} Derivative: {self.linear_derivative(self.w)}\"\n",
        "  \n",
        "  def is_in_precision_range(self):\n",
        "    if (self.linear_derivative(self.w) > -(self.precision_rate) and self.linear_derivative(self.w) <= 0) or (self.linear_derivative(self.w) < self.precision_rate and self.linear_derivative(self.w) >= 0):\n",
        "      return True\n",
        "\n",
        "  def visualize_lost_function(self):\n",
        "    w = np.linspace(self.all_w[0], self.all_w[-1])\n",
        "    plt.plot(w, self.lost_function(w))\n",
        "    plt.show()\n",
        "\n",
        "g = GradientDescent()\n",
        "g.gradient_descent()\n",
        "g.visualize_lost_function()\n",
        "\n",
        "  \n",
        "\n",
        "\n",
        "\n"
      ],
      "execution_count": 55,
      "outputs": [
        {
          "output_type": "display_data",
          "data": {
            "image/png": "[encoded data removed]",
            "text/plain": [
              "<Figure size 432x288 with 1 Axes>"
            ]
          },
          "metadata": {
            "tags": [],
            "needs_background": "light"
          }
        }
      ]
    }
  ]
}